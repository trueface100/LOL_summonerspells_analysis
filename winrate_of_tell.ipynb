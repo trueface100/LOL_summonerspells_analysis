{
 "cells": [
  {
   "cell_type": "code",
   "execution_count": 13,
   "id": "876c27ae",
   "metadata": {},
   "outputs": [
    {
     "name": "stdout",
     "output_type": "stream",
     "text": [
      "데이터 개수: 82110\n"
     ]
    }
   ],
   "source": [
    "import pandas as pd\n",
    "\n",
    "# Load the CSV file\n",
    "df = pd.read_csv('result.csv')\n",
    "\n",
    "data_count = len(df)\n",
    "print(\"데이터 개수:\",data_count)\n"
   ]
  },
  {
   "cell_type": "code",
   "execution_count": 14,
   "id": "1da7c3da",
   "metadata": {},
   "outputs": [
    {
     "name": "stdout",
     "output_type": "stream",
     "text": [
      "블루 팀의 승리 수: 19439\n",
      "레드 팀의 승리 수: 20633\n",
      "던지는 게임 횟수: 4\n",
      "텔의 갯수가 차이날 때의 승률: 0.4880282547801729\n"
     ]
    }
   ],
   "source": [
    "# Count cases where blue_tell is greater than red_tell and win is 1\n",
    "count_blue_win = len(df[(df['blue_tell'] > df['red_tell']) & (df['win'] == 1) & (df['blue_tell'] < 4)])\n",
    "\n",
    "# Count cases where red_tell is greater than blue_tell and win is 0\n",
    "count_red_win = len(df[(df['red_tell'] > df['blue_tell']) & (df['win'] == 0) & (df['red_tell'] < 4)])\n",
    "\n",
    "count_throw = len(df[(df['blue_tell'] >= 4) | (df['red_tell'] >= 4)])\n",
    "\n",
    "# Print the counts\n",
    "print(\"블루 팀의 승리 수:\", count_blue_win)\n",
    "print(\"레드 팀의 승리 수:\", count_red_win)\n",
    "print(\"던지는 게임 횟수:\",count_throw)\n",
    "\n",
    "win_rate = (count_blue_win + count_red_win) / data_count\n",
    "\n",
    "print(\"텔의 갯수가 차이날 때의 승률:\", win_rate)"
   ]
  },
  {
   "cell_type": "code",
   "execution_count": null,
   "id": "c1cee11d",
   "metadata": {},
   "outputs": [],
   "source": []
  }
 ],
 "metadata": {
  "kernelspec": {
   "display_name": "Python 3 (ipykernel)",
   "language": "python",
   "name": "python3"
  },
  "language_info": {
   "codemirror_mode": {
    "name": "ipython",
    "version": 3
   },
   "file_extension": ".py",
   "mimetype": "text/x-python",
   "name": "python",
   "nbconvert_exporter": "python",
   "pygments_lexer": "ipython3",
   "version": "3.9.7"
  }
 },
 "nbformat": 4,
 "nbformat_minor": 5
}
