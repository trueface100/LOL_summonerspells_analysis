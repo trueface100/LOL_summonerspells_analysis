{
 "cells": [
  {
   "cell_type": "code",
   "execution_count": 1,
   "metadata": {},
   "outputs": [],
   "source": [
    "import requests\n",
    "import time\n",
    "import pandas as pd\n",
    "from tqdm import tqdm\n",
    "import os\n",
    "from glob import glob\n",
    "import json"
   ]
  },
  {
   "cell_type": "code",
   "execution_count": 2,
   "metadata": {},
   "outputs": [],
   "source": [
    "from sklearn.linear_model import LogisticRegression\n",
    "from sklearn.model_selection import train_test_split\n",
    "from sklearn.metrics import accuracy_score\n",
    "from sklearn.preprocessing import OneHotEncoder, LabelEncoder"
   ]
  },
  {
   "cell_type": "code",
   "execution_count": null,
   "metadata": {},
   "outputs": [],
   "source": [
    "region = 'kr'\n",
    "columns = ['summonerId', 'summonerName', 'leaguePoints', 'rank', 'wins', \\\n",
    "           'losses', 'veteran', 'inactive', 'freshBlood', 'hotStreak']\n",
    "\n",
    "api_key = 'your_api_key'"
   ]
  },
  {
   "cell_type": "code",
   "execution_count": null,
   "metadata": {},
   "outputs": [],
   "source": [
    "tiers = ['grandmasterleagues', 'challengerleagues']\n",
    "df = pd.DataFrame(columns=columns)\n",
    "\n",
    "for tier in tiers:\n",
    "    url = f'https://{region}.api.riotgames.com/lol/league/v4/{tier}/by-queue/RANKED_SOLO_5x5?api_key={api_key}'\n",
    "    response = requests.get(url)\n",
    "    response.raise_for_status()\n",
    "\n",
    "    data = response.json()\n",
    "    entries = data['entries']\n",
    "\n",
    "    for entrie in entries:\n",
    "        df = pd.concat([df, pd.DataFrame([entrie])])"
   ]
  },
  {
   "cell_type": "code",
   "execution_count": null,
   "metadata": {},
   "outputs": [],
   "source": [
    "df = df.reset_index(drop=True)\n",
    "df.to_csv('top_tier.csv', index=False)\n",
    "df.head()"
   ]
  },
  {
   "cell_type": "code",
   "execution_count": null,
   "metadata": {},
   "outputs": [],
   "source": [
    "api_keys = [\n",
    "    'your_api_key',\n",
    "    'your_api_key',\n",
    "    'your_api_key',\n",
    "    'your_api_key',\n",
    "    'your_api_key',\n",
    "    'your_api_key',\n",
    "    'your_api_key',\n",
    "]"
   ]
  },
  {
   "cell_type": "code",
   "execution_count": null,
   "metadata": {},
   "outputs": [],
   "source": [
    "api_key_index = 0\n",
    "\n",
    "for i in tqdm(range(0, len(df))):\n",
    "    summonerName = df.iloc[i]['summonerName']\n",
    "    api_key = api_keys[api_key_index]\n",
    "\n",
    "    url = f'https://kr.api.riotgames.com/lol/summoner/v4/summoners/by-name/{summonerName}?api_key={api_key}'\n",
    "    \n",
    "    response = requests.get(url)\n",
    "    try:\n",
    "        response.raise_for_status()\n",
    "    except:\n",
    "        if response.status_code != 404:\n",
    "            print(i, summonerName, url)\n",
    "            break\n",
    "        continue\n",
    "\n",
    "    data = response.json()\n",
    "    ppuid = data['puuid']\n",
    "\n",
    "    url = f'https://asia.api.riotgames.com/lol/match/v5/matches/by-puuid/{ppuid}/ids?type=ranked&start=0&count=30&api_key={api_key}'\n",
    "    response = requests.get(url)\n",
    "    \n",
    "    game_list = response.json()\n",
    "\n",
    "    with open(\"top_list.txt\", \"a\") as f:\n",
    "        for game_id in game_list:\n",
    "            f.write(game_id + \"\\n\")\n",
    "\n",
    "    api_key_index = (api_key_index + 1) % len(api_keys)"
   ]
  },
  {
   "cell_type": "markdown",
   "metadata": {},
   "source": [
    "## 정재하기"
   ]
  },
  {
   "cell_type": "code",
   "execution_count": null,
   "metadata": {},
   "outputs": [],
   "source": [
    "with open(\"top_list.txt\", \"r\") as file:\n",
    "    lines_seen = set(file.read().splitlines())\n",
    "\n",
    "with open(\"top_list2.txt\", \"w\") as file:\n",
    "    for line in lines_seen:\n",
    "        file.write(line + '\\n')"
   ]
  },
  {
   "cell_type": "code",
   "execution_count": null,
   "metadata": {},
   "outputs": [],
   "source": [
    "len(lines_seen)"
   ]
  },
  {
   "cell_type": "markdown",
   "metadata": {},
   "source": [
    "## 게임 데이터 분할하기 for json API"
   ]
  },
  {
   "cell_type": "code",
   "execution_count": null,
   "metadata": {},
   "outputs": [],
   "source": [
    "os.makedirs(\"top_list\", exist_ok=True)"
   ]
  },
  {
   "cell_type": "code",
   "execution_count": null,
   "metadata": {},
   "outputs": [],
   "source": [
    "num = 3000\n",
    "\n",
    "total_lines = len(lines_seen)\n",
    "num_files = total_lines // num\n",
    "\n",
    "if total_lines % num != 0: \n",
    "    num_files += 1\n",
    "\n",
    "lines_seen = list(lines_seen)\n",
    "\n",
    "for i in range(num_files):\n",
    "    with open(f\"top_list/{i+1}.txt\", \"w\") as file:\n",
    "        for line in lines_seen[i*num:(i+1)*num]:\n",
    "            file.write(line + '\\n')"
   ]
  },
  {
   "cell_type": "markdown",
   "metadata": {},
   "source": [
    "## 게임 데이터 가져오기"
   ]
  },
  {
   "cell_type": "code",
   "execution_count": 4,
   "metadata": {},
   "outputs": [
    {
     "name": "stderr",
     "output_type": "stream",
     "text": [
      "100%|██████████| 26924/26924 [00:18<00:00, 1435.05it/s]\n"
     ]
    },
    {
     "data": {
      "text/plain": [
       "(26924, 20020)"
      ]
     },
     "execution_count": 4,
     "metadata": {},
     "output_type": "execute_result"
    }
   ],
   "source": [
    "game_pathes = glob(\"./grand_master/*.json\")\n",
    "\n",
    "games = []\n",
    "for path in tqdm(game_pathes):\n",
    "    with open(path, \"r\") as f:\n",
    "        data = json.load(f)\n",
    "\n",
    "    if data['info']['queueId'] == 420:\n",
    "        games.append(data)\n",
    "\n",
    "len(game_pathes), len(games)"
   ]
  },
  {
   "cell_type": "code",
   "execution_count": null,
   "metadata": {},
   "outputs": [],
   "source": [
    "tier_df = pd.read_csv('./top_tier.csv')"
   ]
  },
  {
   "cell_type": "code",
   "execution_count": null,
   "metadata": {},
   "outputs": [],
   "source": [
    "for game in games:\n",
    "    participants = game['info']['participants']\n",
    "    teams = game['info']['teams']\n",
    "\n",
    "    win = [1 if team['win'] == True else 0 for team in teams]\n",
    "\n",
    "    dfs = pd.DataFrame()\n",
    "    for participant in participants:\n",
    "        championName = participant['championName']\n",
    "        # summonerName = participant['summonerName']\n",
    "        # summonerId = participant['summonerId']\n",
    "\n",
    "        # summoner = tier_df[tier_df['summonerId'] == summonerId]\n",
    "        # print(len(summoner))\n",
    "\n",
    "        summoner = tier_df[tier_df['summonerName'] == participant['summonerName']]\n",
    "        \n",
    "        if len(summoner):\n",
    "            leaguePoints = summoner['leaguePoints'].iloc[0]\n",
    "            wins = summoner['wins'].iloc[0]\n",
    "            losses = summoner['losses'].iloc[0]\n",
    "            leaguePoints = summoner['leaguePoints'].iloc[0]\n",
    "            hotStreak = summoner['hotStreak'].iloc[0] # 연승\n",
    "        else:\n",
    "            leaguePoints = None\n",
    "            wins = None\n",
    "            losses = None\n",
    "            leaguePoints = None\n",
    "            hotStreak = None\n",
    "        \n",
    "        df = pd.DataFrame([[summonerName, championName, leaguePoints, wins, losses, leaguePoints, hotStreak]])\n",
    "        dfs = pd.concat([dfs, df])"
   ]
  },
  {
   "cell_type": "code",
   "execution_count": null,
   "metadata": {},
   "outputs": [],
   "source": []
  },
  {
   "cell_type": "code",
   "execution_count": null,
   "metadata": {},
   "outputs": [],
   "source": []
  },
  {
   "cell_type": "code",
   "execution_count": null,
   "metadata": {},
   "outputs": [],
   "source": []
  },
  {
   "cell_type": "code",
   "execution_count": null,
   "metadata": {},
   "outputs": [],
   "source": [
    "df = pd.DataFrame()\n",
    "\n",
    "for game in tqdm(games):\n",
    "    participants = game['info']['participants']\n",
    "    teams = game['info']['teams']\n",
    "    win = [1 if team['win'] == True else 0 for team in teams]\n",
    "\n",
    "    champions = list()\n",
    "    for participant in participants:\n",
    "        championName = participant['championName']\n",
    "        champions.append(championName)\n",
    "\n",
    "    champions += win\n",
    "    \n",
    "    df = pd.concat([df, pd.DataFrame(champions).transpose()])\n",
    "\n",
    "df.columns = [\"blue_top\", \"blue_jungle\", \"blue_middle\", \"blue_bottom\", \"blue_utility\",\n",
    "              \"red_top\", \"red_jungle\", \"red_middle\", \"red_bottom\", \"red_utility\",\n",
    "              \"blue_win\", \"red_win\"]\n",
    "\n",
    "df = df.reset_index(drop=True)"
   ]
  },
  {
   "cell_type": "markdown",
   "metadata": {},
   "source": [
    "## Machine learning"
   ]
  },
  {
   "cell_type": "code",
   "execution_count": null,
   "metadata": {},
   "outputs": [],
   "source": [
    "label_encoder = LabelEncoder()\n",
    "for column in df.columns:\n",
    "    if df[column].dtype == 'object':\n",
    "        df[column] = label_encoder.fit_transform(df[column])\n",
    "\n",
    "X = df.drop(['blue_win', 'red_win'], axis=1)\n",
    "y = df['blue_win']\n",
    "\n",
    "X_train, X_test, y_train, y_test = train_test_split(X, y, test_size=0.2, random_state=42)\n",
    "\n",
    "model = LogisticRegression()\n",
    "model.fit(X_train, y_train)\n",
    "\n",
    "y_pred = model.predict(X_test)\n",
    "accuracy = accuracy_score(y_test, y_pred)\n",
    "print(\"Accuracy:\", accuracy)"
   ]
  },
  {
   "cell_type": "markdown",
   "metadata": {},
   "source": [
    "## 통계적 접근"
   ]
  },
  {
   "cell_type": "code",
   "execution_count": null,
   "metadata": {},
   "outputs": [],
   "source": [
    "op_df = pd.read_csv('./op_gg.csv')\n",
    "\n",
    "op_df.loc[op_df['line'] == 'top', 'line'] = 'TOP'  # teamPosition\n",
    "op_df.loc[op_df['line'] == 'jungle', 'line'] = 'JUNGLE'\n",
    "op_df.loc[op_df['line'] == 'mid', 'line'] = 'MIDDLE'\n",
    "op_df.loc[op_df['line'] == 'adc', 'line'] = 'BOTTOM'\n",
    "op_df.loc[op_df['line'] == 'support', 'line'] = 'UTILITY'"
   ]
  },
  {
   "cell_type": "code",
   "execution_count": null,
   "metadata": {},
   "outputs": [],
   "source": [
    "champions = set()\n",
    "\n",
    "acc = 0\n",
    "for game in tqdm(games):\n",
    "    participants = game['info']['participants']\n",
    "    teams = game['info']['teams']\n",
    "    win = int(teams[0]['win'])\n",
    "\n",
    "    tiers = [3] * 10\n",
    "\n",
    "    for i, participant in enumerate(participants):\n",
    "        championName = participant['championName']\n",
    "        teamPosition = participant['teamPosition']\n",
    "        \n",
    "        try:\n",
    "            tier = op_df.loc[(op_df['Champion'] == championName) & (op_df['line'] == teamPosition), 'tier'].iloc[0]\n",
    "        except:\n",
    "            tier = 3\n",
    "    \n",
    "        tiers[i] = tier\n",
    "\n",
    "    pred = int(sum(tiers[:5]) < sum(tiers[5:]))\n",
    "    acc += int(win == pred)"
   ]
  },
  {
   "cell_type": "code",
   "execution_count": null,
   "metadata": {},
   "outputs": [],
   "source": [
    "print(acc / len(games))"
   ]
  },
  {
   "cell_type": "code",
   "execution_count": null,
   "metadata": {},
   "outputs": [],
   "source": []
  }
 ],
 "metadata": {
  "kernelspec": {
   "display_name": "Python 3 (ipykernel)",
   "language": "python",
   "name": "python3"
  },
  "language_info": {
   "codemirror_mode": {
    "name": "ipython",
    "version": 3
   },
   "file_extension": ".py",
   "mimetype": "text/x-python",
   "name": "python",
   "nbconvert_exporter": "python",
   "pygments_lexer": "ipython3",
   "version": "3.9.7"
  }
 },
 "nbformat": 4,
 "nbformat_minor": 2
}
