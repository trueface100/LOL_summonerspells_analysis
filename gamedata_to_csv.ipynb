{
 "cells": [
  {
   "cell_type": "code",
   "execution_count": 6,
   "metadata": {},
   "outputs": [],
   "source": [
    "from glob import glob\n",
    "import pandas as pd\n",
    "from tqdm import tqdm\n",
    "import json"
   ]
  },
  {
   "cell_type": "markdown",
   "metadata": {},
   "source": [
    "1: 정화\n",
    "3: 탈진\n",
    "4: 점멸\n",
    "6: 유체화\n",
    "7: 회복\n",
    "11: 강타\n",
    "12: 텔레포트\n",
    "14: 점화"
   ]
  },
  {
   "cell_type": "code",
   "execution_count": 10,
   "metadata": {},
   "outputs": [
    {
     "name": "stderr",
     "output_type": "stream",
     "text": [
      "100%|██████████| 175999/175999 [02:04<00:00, 1415.56it/s]"
     ]
    },
    {
     "name": "stdout",
     "output_type": "stream",
     "text": [
      "175999 151025\n"
     ]
    },
    {
     "name": "stderr",
     "output_type": "stream",
     "text": [
      "\n"
     ]
    }
   ],
   "source": [
    "game_pathes = glob(\"./master_grand_challenger/*.json\")\n",
    "\n",
    "games = []\n",
    "for path in tqdm(game_pathes):\n",
    "    with open(path, \"r\") as f:\n",
    "        data = json.load(f)\n",
    "\n",
    "    if data['info']['queueId'] == 420:\n",
    "        games.append(data)\n",
    "\n",
    "print(len(game_pathes), len(games))"
   ]
  },
  {
   "cell_type": "code",
   "execution_count": 43,
   "metadata": {},
   "outputs": [],
   "source": [
    "dataset = []\n",
    "\n",
    "for game in games:\n",
    "    participants = game['info']['participants']\n",
    "    teams = game['info']['teams']\n",
    "\n",
    "    # win = [1 if team['win'] == True else 0 for team in teams]\n",
    "    win = 1 if teams[0]['win'] else 0\n",
    "\n",
    "    blue = list()\n",
    "    for participant in participants[:5]:\n",
    "        spell1 = participant['summoner1Id']\n",
    "        spell2 = participant['summoner2Id']\n",
    "        blue.append(spell1)\n",
    "        blue.append(spell2)\n",
    "\n",
    "    red = list()\n",
    "    for participant in participants[5:]:\n",
    "        spell1 = participant['summoner1Id']\n",
    "        spell2 = participant['summoner2Id']\n",
    "        red.append(spell1)\n",
    "        red.append(spell2)\n",
    "\n",
    "    blue_12 = blue.count(12)\n",
    "    red_12 = red.count(12)\n",
    "\n",
    "    if blue_12 == red_12:\n",
    "        continue\n",
    "\n",
    "    dataset.append({'blue_12': blue_12, 'red_12': red_12, 'win': win})"
   ]
  },
  {
   "cell_type": "code",
   "execution_count": 44,
   "metadata": {},
   "outputs": [],
   "source": [
    "df = pd.DataFrame(dataset)"
   ]
  },
  {
   "cell_type": "code",
   "execution_count": 47,
   "metadata": {},
   "outputs": [],
   "source": [
    "df.to_csv('result.csv', index=False)"
   ]
  },
  {
   "cell_type": "code",
   "execution_count": null,
   "metadata": {},
   "outputs": [],
   "source": []
  }
 ],
 "metadata": {
  "kernelspec": {
   "display_name": "Python 3 (ipykernel)",
   "language": "python",
   "name": "python3"
  },
  "language_info": {
   "codemirror_mode": {
    "name": "ipython",
    "version": 3
   },
   "file_extension": ".py",
   "mimetype": "text/x-python",
   "name": "python",
   "nbconvert_exporter": "python",
   "pygments_lexer": "ipython3",
   "version": "3.9.7"
  }
 },
 "nbformat": 4,
 "nbformat_minor": 2
}
